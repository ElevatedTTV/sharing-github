{
 "cells": [
  {
   "cell_type": "markdown",
   "metadata": {},
   "source": [
    "Conditional logic"
   ]
  },
  {
   "cell_type": "code",
   "execution_count": 1,
   "metadata": {},
   "outputs": [
    {
     "name": "stdout",
     "output_type": "stream",
     "text": [
      "You are old enough to drive\n"
     ]
    }
   ],
   "source": [
    "#Conditional Logic\n",
    "is_old = True\n",
    "is_licenced = True\n",
    "\n",
    "if is_old: #if the varialble is_old = true run print\n",
    "  print('You are old enough to drive') \n",
    "else:     #if the if the varialble is_old = false run print\n",
    "    print('checkcheck')"
   ]
  },
  {
   "cell_type": "code",
   "execution_count": 2,
   "metadata": {},
   "outputs": [
    {
     "name": "stdout",
     "output_type": "stream",
     "text": [
      "checkcheck\n"
     ]
    }
   ],
   "source": [
    "#Conditional Logic\n",
    "is_old = False\n",
    "is_licenced = True\n",
    "\n",
    "if is_old: #if the varialble is_old = true run print\n",
    "  print('You are old enough to drive') \n",
    "else:     #if the if the varialble is_old = false run print\n",
    "    print('checkcheck')"
   ]
  },
  {
   "cell_type": "code",
   "execution_count": 3,
   "metadata": {},
   "outputs": [
    {
     "name": "stdout",
     "output_type": "stream",
     "text": [
      "You are old enough to drive\n",
      "okoko\n"
     ]
    }
   ],
   "source": [
    "#Conditional Logic\n",
    "is_old = True\n",
    "is_licenced = True\n",
    "\n",
    "if is_old:            #if the varialble is_old = true run print\n",
    "  print('You are old enough to drive') \n",
    "elif is_licenced:     #elif says \"if the previous conditions were not true, then try this condition\", so if is_licenced is false run print\n",
    "  print('you can drive now!')\n",
    "else:                 #else keyword catches anything which isn't caught by the preceding conditions. if the if the varialble is_old = false run print\n",
    "  print('Your are not of age')\n",
    "\n",
    "print ('okoko')"
   ]
  },
  {
   "cell_type": "code",
   "execution_count": 6,
   "metadata": {},
   "outputs": [
    {
     "name": "stdout",
     "output_type": "stream",
     "text": [
      "You are old enough to drive, and have a license!\n"
     ]
    }
   ],
   "source": [
    "#Conditional Logic\n",
    "is_old = True\n",
    "is_licenced = True\n",
    "\n",
    "if is_old and is_licenced: #if is_old & is_licenced are both true, run print\n",
    "  print('You are old enough to drive, and have a license!') \n",
    "else:                      #else, run print\n",
    "  print('You are not old enough!')"
   ]
  },
  {
   "cell_type": "markdown",
   "metadata": {},
   "source": [
    "truthy and falsy values in python\n",
    "https://stackoverflow.com/questions/39983695/what-is-truthy-and-falsy-how-is-it-different-from-true-and-false"
   ]
  },
  {
   "cell_type": "code",
   "execution_count": 10,
   "metadata": {},
   "outputs": [
    {
     "name": "stdout",
     "output_type": "stream",
     "text": [
      "hi\n",
      "True\n",
      "5\n",
      "True\n",
      "----------\n",
      "True\n",
      "True\n",
      "False\n",
      "False\n",
      "You are old enough to drive, and have a license!\n"
     ]
    }
   ],
   "source": [
    "#Conditional Logic\n",
    "is_old = 'hi'  \n",
    "is_licenced = 5\n",
    "is_old2 = bool('hi')  \n",
    "is_licenced2 = bool(5)\n",
    "\n",
    "print(is_old)       #the varialble is_old is a string BUT if included in an if statment gets converted to a boolean = true\n",
    "print(is_old2)\n",
    "print(is_licenced)  #the varialble is_licenced is a num BUT if included in an if statment gets converted to a boolean = true\n",
    "print(is_licenced2)\n",
    "print('----------')\n",
    "\n",
    "#truthy and falsy\n",
    "print(bool('hi'))   #converts 'hi' into a boolean which = True\n",
    "print(bool(5))      #converts 5 into a boolean which = True\n",
    "print(bool(''))     #converts '' into a boolean which = False\n",
    "print(bool(0))      #converts 0 into a boolean which = False\n",
    "\n",
    "if is_old and is_licenced: #both equal true (see above) so print runs\n",
    "  print('You are old enough to drive, and have a license!') \n",
    "else:\n",
    "  print('You are not old enough!')\n"
   ]
  },
  {
   "cell_type": "markdown",
   "metadata": {},
   "source": [
    "--------------------------------------------------------------------------------\n",
    "Ternary Operator"
   ]
  },
  {
   "cell_type": "code",
   "execution_count": 12,
   "metadata": {},
   "outputs": [
    {
     "name": "stdout",
     "output_type": "stream",
     "text": [
      "not allowed\n"
     ]
    }
   ],
   "source": [
    "#Ternary Operator\n",
    "\n",
    "is_friend = False\n",
    "can_message = 'message allowed' if is_friend else 'not allowed'\n",
    "\n",
    "#if variable is_friend is True, variable can_message is set to 'message allowed', if False variable set to 'not allowed'\n",
    "\n",
    "print(can_message)"
   ]
  },
  {
   "cell_type": "markdown",
   "metadata": {},
   "source": [
    "-------------------------------------------------------------\n",
    "Short Circuting"
   ]
  },
  {
   "cell_type": "code",
   "execution_count": 13,
   "metadata": {},
   "outputs": [
    {
     "name": "stdout",
     "output_type": "stream",
     "text": [
      "Best friends forever\n"
     ]
    }
   ],
   "source": [
    "#short circuting\n",
    "is_friend = True\n",
    "is_user = False\n",
    "\n",
    "if is_friend and is_user: #if first statment is True AND second statment is True, run print\n",
    "  print('BFF love you')\n",
    "\n",
    "if is_friend or is_user:  #if first statment is True IGNORE second statment and run print\n",
    "  print('Best friends forever')\n"
   ]
  },
  {
   "cell_type": "markdown",
   "metadata": {},
   "source": [
    "-------------------------------------\n",
    "Excerise: Logical Operators"
   ]
  },
  {
   "cell_type": "code",
   "execution_count": 16,
   "metadata": {},
   "outputs": [
    {
     "name": "stdout",
     "output_type": "stream",
     "text": [
      "you need magic powers\n"
     ]
    }
   ],
   "source": [
    "is_magician = False\n",
    "is_expert = True\n",
    "\n",
    "\n",
    "if is_magician and is_expert: #check if magician and expert\n",
    "  print('you are a master magician')\n",
    "elif is_magician and not is_expert: #check if magician but NOT expert\n",
    "  print('at least your getting there')\n",
    "elif not is_magician:  #check if your not a magician\n",
    " print('you need magic powers')"
   ]
  },
  {
   "cell_type": "markdown",
   "metadata": {},
   "source": [
    "--------------------------------\n",
    "Loops"
   ]
  },
  {
   "cell_type": "code",
   "execution_count": 18,
   "metadata": {},
   "outputs": [
    {
     "name": "stdout",
     "output_type": "stream",
     "text": [
      "H\n",
      "o\n",
      "w\n",
      " \n",
      "a\n",
      "r\n",
      "e\n",
      " \n",
      "y\n",
      "o\n",
      "u\n",
      "?\n"
     ]
    }
   ],
   "source": [
    "#A for loop is used for iterating over a sequence \n",
    "#works on (list, tuple, dictionary, set or a string)\n",
    "for item in 'How are you?': #for every item in the string 'how good is my code?', print each item\n",
    " print(item)\n"
   ]
  },
  {
   "cell_type": "code",
   "execution_count": 19,
   "metadata": {},
   "outputs": [
    {
     "name": "stdout",
     "output_type": "stream",
     "text": [
      "1\n",
      "2\n",
      "3\n",
      "4\n",
      "5\n"
     ]
    }
   ],
   "source": [
    "#Loops\n",
    "for item in [1,2,3,4,5]: #for every item in the list 1 to 5, print each item\n",
    " print(item)\n"
   ]
  },
  {
   "cell_type": "markdown",
   "metadata": {},
   "source": [
    "Iterable = an object that can be “iterated over”, such as (list, dictionary, tuple, ser or string)"
   ]
  },
  {
   "cell_type": "code",
   "execution_count": 20,
   "metadata": {},
   "outputs": [
    {
     "name": "stdout",
     "output_type": "stream",
     "text": [
      "Name\n",
      "age\n",
      "can_swim\n"
     ]
    }
   ],
   "source": [
    "#iterable - \n",
    "#dictionary 'user' contains following keys and valuse\n",
    "user = {\n",
    "  'Name': 'Golem',\n",
    "  'age': 500,\n",
    "  'can_swim': False\n",
    "}\n",
    "\n",
    "for item in user: #for loop inerate over dictionary 'user' to print the keys\n",
    " print(item)"
   ]
  },
  {
   "cell_type": "code",
   "execution_count": 25,
   "metadata": {},
   "outputs": [
    {
     "name": "stdout",
     "output_type": "stream",
     "text": [
      "('Name', 'Golem')\n",
      "('age', 500)\n",
      "('can_swim', False)\n",
      "----------------\n",
      "Golem\n",
      "500\n",
      "False\n",
      "----------------\n",
      "Name\n",
      "age\n",
      "can_swim\n",
      "----------------\n",
      "Name Golem\n",
      "age 500\n",
      "can_swim False\n"
     ]
    }
   ],
   "source": [
    "#iterable - \n",
    "#dictionary 'user' contains following keys and items\n",
    "user = {\n",
    "  'Name': 'Golem',\n",
    "  'age': 500,\n",
    "  'can_swim': False\n",
    "}\n",
    "\n",
    "for item in user.items(): #for loop inerates over dictionary 'user' and .items prints the key/value pair\n",
    " print(item)\n",
    "print('----------------') #insert to break up output\n",
    "for item in user.values(): #for loop inerates over dictionary 'user' to print the values\n",
    " print(item)\n",
    "print('----------------')\n",
    "for item in user.keys(): #for loop inerate over dictionary 'user' to print the keys\n",
    " print(item)\n",
    "print('----------------')\n",
    "for key, value in user.items(): #for loop inerate over dictionary 'user' to the Keys & values\n",
    " print(key, value)"
   ]
  },
  {
   "cell_type": "markdown",
   "metadata": {},
   "source": [
    "-----------------------------\n",
    "Excercise: Tricky counter"
   ]
  },
  {
   "cell_type": "code",
   "execution_count": 26,
   "metadata": {},
   "outputs": [
    {
     "name": "stdout",
     "output_type": "stream",
     "text": [
      "55\n"
     ]
    }
   ],
   "source": [
    "#counter\n",
    "my_list = [1,2,3,4,5,6,7,8,9,10] #my_list of numbers\n",
    "\n",
    "counter = 0      #create variable outside the 'for' loop and set it to 0\n",
    "for item in my_list:        \n",
    "  counter = counter + item  #loop counter and add item to it\n",
    "print(counter)"
   ]
  },
  {
   "cell_type": "markdown",
   "metadata": {},
   "source": [
    "Range: The range() function returns a sequence of numbers, starting from 0 by default, and increments by 1 (by default), and stops before a specified number."
   ]
  },
  {
   "cell_type": "code",
   "execution_count": 28,
   "metadata": {},
   "outputs": [
    {
     "name": "stdout",
     "output_type": "stream",
     "text": [
      "0\n",
      "1\n",
      "2\n",
      "3\n",
      "4\n",
      "5\n",
      "6\n",
      "7\n",
      "8\n",
      "9\n",
      "10\n",
      "11\n",
      "12\n",
      "13\n",
      "14\n",
      "15\n",
      "16\n"
     ]
    }
   ],
   "source": [
    "#range\n",
    "for number in range(17): #range up to 16\n",
    " print(number)"
   ]
  },
  {
   "cell_type": "code",
   "execution_count": 29,
   "metadata": {},
   "outputs": [
    {
     "name": "stdout",
     "output_type": "stream",
     "text": [
      "0\n",
      "2\n",
      "4\n",
      "6\n",
      "8\n",
      "10\n",
      "12\n",
      "14\n",
      "16\n"
     ]
    }
   ],
   "source": [
    "#range\n",
    "for number in range(0, 17, 2): #range up to 16 in increments of 2\n",
    " print(number)"
   ]
  },
  {
   "cell_type": "code",
   "execution_count": 30,
   "metadata": {},
   "outputs": [
    {
     "name": "stdout",
     "output_type": "stream",
     "text": [
      "10\n",
      "9\n",
      "8\n",
      "7\n",
      "6\n",
      "5\n",
      "4\n",
      "3\n",
      "2\n",
      "1\n"
     ]
    }
   ],
   "source": [
    "#range\n",
    "for number in range(10, 0, -1): #range from 10 to 0 backwards (-1)\n",
    " print(number)"
   ]
  },
  {
   "cell_type": "code",
   "execution_count": 31,
   "metadata": {},
   "outputs": [
    {
     "name": "stdout",
     "output_type": "stream",
     "text": [
      "[0, 1, 2, 3, 4, 5, 6, 7, 8, 9]\n",
      "[0, 1, 2, 3, 4, 5, 6, 7, 8, 9]\n"
     ]
    }
   ],
   "source": [
    "#range\n",
    "for number in range(2):\n",
    " print(list(range(10))) "
   ]
  },
  {
   "cell_type": "code",
   "execution_count": 34,
   "metadata": {},
   "outputs": [
    {
     "name": "stdout",
     "output_type": "stream",
     "text": [
      "0 h\n",
      "1 e\n",
      "2 l\n",
      "3 l\n",
      "4 o\n",
      "0 1\n",
      "1 2\n",
      "2 3\n",
      "3 4\n"
     ]
    }
   ],
   "source": [
    "#enumerate: adds a counter as the key of the enumerate object\n",
    "\n",
    "for i,char in enumerate('hello'): #enumerate adds a key to each object in 'hello'\n",
    " print(i, char)\n",
    "\n",
    "for i, char in enumerate([1,2,3,4]): #enumerate adds a key to each object in tuple \n",
    "  print(i, char)"
   ]
  },
  {
   "cell_type": "code",
   "execution_count": 35,
   "metadata": {},
   "outputs": [
    {
     "name": "stdout",
     "output_type": "stream",
     "text": [
      "index of 50 is: 50 \n"
     ]
    }
   ],
   "source": [
    "#enumerate\n",
    "for i,char in enumerate(list(range(100))): #make a range from 0-100, put it in  a list\n",
    "  if char == 50:                           #if the char is = 50\n",
    "   print(f'index of 50 is: {i} ')          #then print the index {i} of it\n"
   ]
  },
  {
   "cell_type": "markdown",
   "metadata": {},
   "source": [
    "While loops: the while loop we can execute a set of statements as long as a condition is true"
   ]
  },
  {
   "cell_type": "code",
   "execution_count": 36,
   "metadata": {},
   "outputs": [
    {
     "name": "stdout",
     "output_type": "stream",
     "text": [
      "0\n"
     ]
    }
   ],
   "source": [
    "#While loops\n",
    "i = 0\n",
    "while i < 50:\n",
    "  print(i) \n",
    "  break    #break, stop code after 1 loop, without it you have an infinate loop"
   ]
  },
  {
   "cell_type": "code",
   "execution_count": 38,
   "metadata": {},
   "outputs": [
    {
     "name": "stdout",
     "output_type": "stream",
     "text": [
      "0\n",
      "1\n",
      "2\n",
      "3\n",
      "4\n",
      "5\n",
      "6\n",
      "7\n",
      "8\n",
      "9\n",
      "That's all folks!!!\n"
     ]
    }
   ],
   "source": [
    "#While loops\n",
    "i = 0\n",
    "while i < 10:\n",
    "  print(i)\n",
    "  i = i + 1\n",
    "else:    #else, will only run if the is no 'break'\n",
    "  print('That\\'s all folks!!!')"
   ]
  },
  {
   "cell_type": "code",
   "execution_count": 40,
   "metadata": {},
   "outputs": [
    {
     "name": "stdout",
     "output_type": "stream",
     "text": [
      "1\n",
      "2\n",
      "3\n",
      "-------\n",
      "1\n",
      "2\n",
      "3\n"
     ]
    }
   ],
   "source": [
    "#While loops and for loops can do the same thing\n",
    "my_list = [1,2,3]\n",
    "for item in my_list: #for simple loops or iterating over iteratable objects, for loops are great\n",
    "  print(item)\n",
    "print('-------')\n",
    "i = 0                  #while loops need a vaiiable\n",
    "while i< len(my_list): #while loops can loop many more times as long a while is true.\n",
    "  print(my_list[i])\n",
    "  i += 1               #and you need to increment the variable so you dont get a infinate loop"
   ]
  },
  {
   "cell_type": "code",
   "execution_count": 41,
   "metadata": {},
   "outputs": [
    {
     "name": "stdout",
     "output_type": "stream",
     "text": [
      "what's up :you\n",
      "what's up :me\n",
      "what's up :nothing\n"
     ]
    }
   ],
   "source": [
    "#While loops\n",
    "while True: #this will always be true\n",
    "  response = input('what\\'s up :') \n",
    "  if (response  == 'nothing'): #if responsc is: nothing \n",
    "    break                      #then break"
   ]
  },
  {
   "cell_type": "code",
   "execution_count": 43,
   "metadata": {},
   "outputs": [
    {
     "name": "stdout",
     "output_type": "stream",
     "text": [
      "1\n",
      "-------\n",
      "1\n"
     ]
    }
   ],
   "source": [
    "#break, Continue, pass\n",
    "my_list = [1,2,3]\n",
    "for item in my_list: \n",
    "  print(item)\n",
    "  break             #break, breaks out of the current closing loop and stops the for loop, only running once\n",
    "print('-------')\n",
    "\n",
    "i = 0                  \n",
    "while i< len(my_list): \n",
    "  print(my_list[i])\n",
    "  i += 1  \n",
    "  break            #break, breaks out of the current closing loop and stops the while loop, only running once          "
   ]
  },
  {
   "cell_type": "code",
   "execution_count": 44,
   "metadata": {},
   "outputs": [
    {
     "name": "stdout",
     "output_type": "stream",
     "text": [
      "1\n",
      "2\n",
      "3\n",
      "-------\n",
      "1\n",
      "2\n",
      "3\n"
     ]
    }
   ],
   "source": [
    "#break, Continue, pass\n",
    "my_list = [1,2,3]\n",
    "for item in my_list: \n",
    "  print(item)\n",
    "  continue        #continue, allows the loop to contiume untll its finished\n",
    "\n",
    "print('-------')\n",
    "\n",
    "i = 0                  \n",
    "while i< len(my_list): \n",
    "  print(my_list[i])\n",
    "  i += 1  \n",
    "  continue       #continue, allows the loop to contiume untll its finished"
   ]
  },
  {
   "cell_type": "code",
   "execution_count": 45,
   "metadata": {},
   "outputs": [
    {
     "ename": "IndentationError",
     "evalue": "expected an indented block (<ipython-input-45-7a0964fbc299>, line 6)",
     "output_type": "error",
     "traceback": [
      "\u001b[1;36m  File \u001b[1;32m\"<ipython-input-45-7a0964fbc299>\"\u001b[1;36m, line \u001b[1;32m6\u001b[0m\n\u001b[1;33m    print('-------')\u001b[0m\n\u001b[1;37m    ^\u001b[0m\n\u001b[1;31mIndentationError\u001b[0m\u001b[1;31m:\u001b[0m expected an indented block\n"
     ]
    }
   ],
   "source": [
    "#break, Continue, pass\n",
    "my_list = [1,2,3]\n",
    "for item in my_list: \n",
    "  #not sure what to do with for loop here (this will cause an error)\n",
    "\n",
    "print('-------')\n",
    "\n",
    "i = 0                  \n",
    "while i< len(my_list): \n",
    "  print(my_list[i])\n",
    "  i += 1  \n",
    "  continue   "
   ]
  },
  {
   "cell_type": "code",
   "execution_count": 47,
   "metadata": {},
   "outputs": [
    {
     "name": "stdout",
     "output_type": "stream",
     "text": [
      "-------\n",
      "1\n",
      "2\n",
      "3\n"
     ]
    }
   ],
   "source": [
    "#break, Continue, pass\n",
    "my_list = [1,2,3]\n",
    "for item in my_list: \n",
    "  #not sure what to do with for loop here\n",
    " pass #by putting 'pass' it allows the code to contune on running without error\n",
    "print('-------')\n",
    "\n",
    "i = 0                  \n",
    "while i< len(my_list): \n",
    "  print(my_list[i])\n",
    "  i += 1  \n",
    "  continue   "
   ]
  },
  {
   "cell_type": "code",
   "execution_count": 49,
   "metadata": {},
   "outputs": [
    {
     "name": "stdout",
     "output_type": "stream",
     "text": [
      "   *   \n",
      "  ***  \n",
      " ***** \n",
      "*******\n",
      "   *   \n",
      "   *   \n"
     ]
    }
   ],
   "source": [
    "#My First GUI\n",
    "picture = [\n",
    "  [0,0,0,1,0,0,0],\n",
    "  [0,0,1,1,1,0,0],\n",
    "  [0,1,1,1,1,1,0],\n",
    "  [1,1,1,1,1,1,1],\n",
    "  [0,0,0,1,0,0,0],\n",
    "  [0,0,0,1,0,0,0]\n",
    "]\n",
    "\n",
    "#Iterate over picture\n",
    "    # if 0 -> print ' '\n",
    "    # if 1 -> print *\n",
    "for row in picture:\n",
    "  for pixel in row:    #nested for loop, \n",
    "    if (pixel):\n",
    "      print('*', end =\"\") #end adds a new line\n",
    "    else:\n",
    "      print(' ', end =\"\") \n",
    "  print('')              #need a new line after every row"
   ]
  },
  {
   "cell_type": "code",
   "execution_count": 50,
   "metadata": {},
   "outputs": [
    {
     "name": "stdout",
     "output_type": "stream",
     "text": [
      "['b', 'n']\n"
     ]
    }
   ],
   "source": [
    "#Excersice: Check for duplicates in a list:\n",
    "some_list = ['a', 'b', 'b', 'c', 'd', 'm', 'n', 'n']\n",
    "\n",
    "duplicates = []     #declare varible 'duplicates' as an empty list\n",
    "for value in some_list:   #varible value, in some_list \n",
    "    if some_list.count(value) > 1:   #.count, counts how many time a value is in a list and if > 1 add to varible 'duplicates'\n",
    "        if value not in duplicates:  \n",
    "            duplicates.append(value) \n",
    "\n",
    "print(duplicates)"
   ]
  },
  {
   "cell_type": "markdown",
   "metadata": {},
   "source": [
    "Functions: A function is a block of code which only runs when it is called"
   ]
  },
  {
   "cell_type": "code",
   "execution_count": 51,
   "metadata": {},
   "outputs": [
    {
     "name": "stdout",
     "output_type": "stream",
     "text": [
      "hi guy\n"
     ]
    }
   ],
   "source": [
    "#functions\n",
    "def say_hello():  #def, means to define a function\n",
    "  print('hi guy')\n",
    "\n",
    "say_hello()      #call new function say_hello"
   ]
  },
  {
   "cell_type": "code",
   "execution_count": 54,
   "metadata": {},
   "outputs": [
    {
     "name": "stdout",
     "output_type": "stream",
     "text": [
      "hi,tony :-)\n",
      "hi,bobby :-)\n"
     ]
    }
   ],
   "source": [
    "#A parameter is the variable listed inside the parentheses in the function definition \n",
    "def say_hello(name, emoji):  #parameters, name and emoji\n",
    "  print(f'hi,{name} {emoji}')\n",
    "\n",
    "#An argument is the value that are sent to the function when it is called\n",
    "#these are positional agruments, so names goes first and emoji goes second in this function\n",
    "say_hello('tony', ':-)')    #arguments, tony and :-)\n",
    "\n",
    "#keyword arguments\n",
    "say_hello(name ='bobby', emoji=':-)')"
   ]
  },
  {
   "cell_type": "code",
   "execution_count": 56,
   "metadata": {},
   "outputs": [
    {
     "name": "stdout",
     "output_type": "stream",
     "text": [
      "hi, tony :-0\n",
      "hi, Bobby :-(\n",
      "hi, sam :-)\n"
     ]
    }
   ],
   "source": [
    "#default parameters allow you to set content of function if it is run blank\n",
    "def say_hello(name='Bobby', emoji=':-('):\n",
    "  print(f'hi, {name} {emoji}')\n",
    "\n",
    "\n",
    "say_hello('tony', ':-0' )\n",
    "say_hello()               #such as here\n",
    "\n",
    "#keyword arguments\n",
    "say_hello(emoji=':-)', name ='sam')"
   ]
  },
  {
   "cell_type": "code",
   "execution_count": 58,
   "metadata": {},
   "outputs": [
    {
     "name": "stdout",
     "output_type": "stream",
     "text": [
      "25\n"
     ]
    }
   ],
   "source": [
    "#a function either modifies something or returns someting\n",
    "#return\n",
    "\n",
    "def sum(num1, num2): #define function, sum\n",
    "  return num1 + num2 #return, is added so the the function returns a value\n",
    "                     #return also automatically exits a function\n",
    "total = sum(10,5)\n",
    "print(sum(10,total))"
   ]
  },
  {
   "cell_type": "code",
   "execution_count": null,
   "metadata": {},
   "outputs": [],
   "source": []
  }
 ],
 "metadata": {
  "kernelspec": {
   "display_name": "Python 3",
   "language": "python",
   "name": "python3"
  },
  "language_info": {
   "codemirror_mode": {
    "name": "ipython",
    "version": 3
   },
   "file_extension": ".py",
   "mimetype": "text/x-python",
   "name": "python",
   "nbconvert_exporter": "python",
   "pygments_lexer": "ipython3",
   "version": "3.8.5"
  }
 },
 "nbformat": 4,
 "nbformat_minor": 4
}
