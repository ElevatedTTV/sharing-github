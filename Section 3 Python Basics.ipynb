{
 "cells": [
  {
   "cell_type": "markdown",
   "metadata": {},
   "source": [
    "Fundemental data types\n",
    "-----------------------------------\n",
    "int   = integer\n",
    "float = floating point number(contain decimal points)\n",
    "bool  = boolean value, True or false\n",
    "str   = string, A string is a sequence of characters\n",
    "list  = Lists are used to store multiple items in a single variable\n",
    "tuple = Tuples are used to store multiple items in a single variable, ordered and unchangeable.\n",
    "set   = Sets are used to store multiple items in a single variable, unordered and unindexed.\n",
    "dict  = Dictionaries are used to store data values in key:value pairs, unordered, changeable and does not allow duplicates"
   ]
  },
  {
   "cell_type": "code",
   "execution_count": 4,
   "metadata": {},
   "outputs": [
    {
     "name": "stdout",
     "output_type": "stream",
     "text": [
      "<class 'int'>\n",
      "<class 'int'>\n",
      "<class 'int'>\n",
      "<class 'float'>\n",
      "<class 'float'>\n",
      "8\n",
      "0\n",
      "1\n"
     ]
    }
   ],
   "source": [
    "#Fundemental Data Types\n",
    "#int and float\n",
    "print(type(2 + 4))\n",
    "print(type(2 - 4))\n",
    "print(type(2 * 4))\n",
    "print(type(2 / 4)) #0.5\n",
    "\n",
    "print(type(4.666))\n",
    "print(2 ** 3)  #to the power of\n",
    "print(2 // 4)  #rounded down to int\n",
    "print(5 % 4)   #modulo: remainder of dividing two numbers"
   ]
  },
  {
   "cell_type": "markdown",
   "metadata": {},
   "source": [
    "Math Functions"
   ]
  },
  {
   "cell_type": "code",
   "execution_count": 5,
   "metadata": {},
   "outputs": [
    {
     "name": "stdout",
     "output_type": "stream",
     "text": [
      "4\n",
      "20\n"
     ]
    }
   ],
   "source": [
    "#Math Functions\n",
    "print(round(4.1)) #rounds up/down number \n",
    "print(abs(-20))   #gets absoulte number"
   ]
  },
  {
   "cell_type": "markdown",
   "metadata": {},
   "source": [
    "Operator Precedence\n"
   ]
  },
  {
   "cell_type": "code",
   "execution_count": 6,
   "metadata": {},
   "outputs": [
    {
     "name": "stdout",
     "output_type": "stream",
     "text": [
      "8\n",
      "21\n"
     ]
    }
   ],
   "source": [
    "#operator precedence\n",
    "# ()\n",
    "# **\n",
    "# *, /\n",
    "# -, +\n",
    "\n",
    "print(20 - 3 * 4) #* goes first then -\n",
    "print((20 - 3) + 2 ** 2) # () is done first, then **"
   ]
  },
  {
   "cell_type": "markdown",
   "metadata": {},
   "source": [
    "Expressions and Statments"
   ]
  },
  {
   "cell_type": "code",
   "execution_count": 7,
   "metadata": {},
   "outputs": [
    {
     "name": "stdout",
     "output_type": "stream",
     "text": [
      "20.0\n"
     ]
    }
   ],
   "source": [
    "iq = 100          # this is a statment\n",
    "user_age = iq / 5 #this is an expression, a piece of code that produces a value\n",
    "print(user_age)"
   ]
  },
  {
   "cell_type": "markdown",
   "metadata": {},
   "source": [
    "Augmented Assignment Operator"
   ]
  },
  {
   "cell_type": "code",
   "execution_count": 9,
   "metadata": {},
   "outputs": [
    {
     "name": "stdout",
     "output_type": "stream",
     "text": [
      "7\n"
     ]
    }
   ],
   "source": [
    "some_value = 5\n",
    "some_value = some_value + 2\n",
    "print(some_value)"
   ]
  },
  {
   "cell_type": "code",
   "execution_count": 10,
   "metadata": {},
   "outputs": [
    {
     "name": "stdout",
     "output_type": "stream",
     "text": [
      "7\n"
     ]
    }
   ],
   "source": [
    "some_value = 5\n",
    "some_value +=  2  #removeing some_value and add +before + is a Augmented Assignment Operator\n",
    "print(some_value)"
   ]
  },
  {
   "cell_type": "markdown",
   "metadata": {},
   "source": [
    "String"
   ]
  },
  {
   "cell_type": "code",
   "execution_count": 11,
   "metadata": {},
   "outputs": [
    {
     "name": "stdout",
     "output_type": "stream",
     "text": [
      "<class 'str'>\n"
     ]
    }
   ],
   "source": [
    "print(type(\"hi, Hello there\"))"
   ]
  },
  {
   "cell_type": "code",
   "execution_count": 12,
   "metadata": {},
   "outputs": [
    {
     "name": "stdout",
     "output_type": "stream",
     "text": [
      "<class 'str'>\n",
      "  \n",
      "WOW\n",
      "O O\n",
      "---\n",
      "\n"
     ]
    }
   ],
   "source": [
    "print(type(\"Hi, Hello There\"))\n",
    "username = \"supercoder\"\n",
    "password = \"supersecret\"\n",
    "long_string = '''  \n",
    "WOW\n",
    "O O\n",
    "---\n",
    "'''      #long strings on multible lines use '''\n",
    "\n",
    "print(long_string)"
   ]
  },
  {
   "cell_type": "code",
   "execution_count": 14,
   "metadata": {},
   "outputs": [
    {
     "name": "stdout",
     "output_type": "stream",
     "text": [
      "Tony O'Connor\n"
     ]
    }
   ],
   "source": [
    "first_name = \"Tony\"\n",
    "last_name = \"O'Connor\"\n",
    "full_name = first_name + ' ' + last_name #you can add string together, and add space using ''\n",
    "print(full_name)"
   ]
  },
  {
   "cell_type": "markdown",
   "metadata": {},
   "source": [
    "String Concatention \"adding strings together\""
   ]
  },
  {
   "cell_type": "code",
   "execution_count": 15,
   "metadata": {},
   "outputs": [
    {
     "name": "stdout",
     "output_type": "stream",
     "text": [
      "hi There,Tony O Connor\n"
     ]
    }
   ],
   "source": [
    "print('hi There,' + 'Tony O Connor')"
   ]
  },
  {
   "cell_type": "markdown",
   "metadata": {},
   "source": [
    "Type Conversion\n"
   ]
  },
  {
   "cell_type": "code",
   "execution_count": 16,
   "metadata": {},
   "outputs": [
    {
     "name": "stdout",
     "output_type": "stream",
     "text": [
      "<class 'str'>\n"
     ]
    }
   ],
   "source": [
    "#type conversion\n",
    "print(type(str(100))) #we have converted 100 into a string using str"
   ]
  },
  {
   "cell_type": "code",
   "execution_count": 17,
   "metadata": {},
   "outputs": [
    {
     "name": "stdout",
     "output_type": "stream",
     "text": [
      "<class 'int'>\n"
     ]
    }
   ],
   "source": [
    "print(type(int(str(100)))) #we have converted 100 into a string using str then backu to int"
   ]
  },
  {
   "cell_type": "markdown",
   "metadata": {},
   "source": [
    "Escape Sequence"
   ]
  },
  {
   "cell_type": "code",
   "execution_count": 18,
   "metadata": {},
   "outputs": [
    {
     "name": "stdout",
     "output_type": "stream",
     "text": [
      "it's \"kind of\" sunny\n"
     ]
    }
   ],
   "source": [
    "#Escape Sequence\n",
    "weather = \"it\\'s \\\"kind of\\\" sunny\" # you need to add \\ if you want to put ' or\" in a string. so is says \\ \"whatever comes after this is a string\"\n",
    "\n",
    "print(weather)\n"
   ]
  },
  {
   "cell_type": "code",
   "execution_count": 19,
   "metadata": {},
   "outputs": [
    {
     "name": "stdout",
     "output_type": "stream",
     "text": [
      "\tit's \"kind of\" sunny\n"
     ]
    }
   ],
   "source": [
    "#Escape Sequence\n",
    "weather = \"\\tit\\'s \\\"kind of\\\" sunny\" # \\t says \"whatever comes after this is a tab\"\n",
    "\n",
    "print(weather)\n"
   ]
  },
  {
   "cell_type": "code",
   "execution_count": 21,
   "metadata": {},
   "outputs": [
    {
     "name": "stdout",
     "output_type": "stream",
     "text": [
      "\tit's \"kind of\" sunny\n",
      " Hoep you have a good day.\n"
     ]
    }
   ],
   "source": [
    "#Escape Sequence\n",
    "weather = \"\\tit\\'s \\\"kind of\\\" sunny\\n Hoep you have a good day.\" # \\n says \"whatever comes after this is a new line\"\n",
    "\n",
    "print(weather)\n"
   ]
  },
  {
   "cell_type": "markdown",
   "metadata": {},
   "source": [
    "Formated Strings"
   ]
  },
  {
   "cell_type": "code",
   "execution_count": 22,
   "metadata": {},
   "outputs": [
    {
     "name": "stdout",
     "output_type": "stream",
     "text": [
      "hi Tony. You are 55 years old\n"
     ]
    }
   ],
   "source": [
    "#Formated Strings\n",
    "name = 'Tony'\n",
    "age = 55\n",
    "\n",
    "print('hi ' + name + '. You are ' + str(age)  + ' years old') "
   ]
  },
  {
   "cell_type": "code",
   "execution_count": 23,
   "metadata": {},
   "outputs": [
    {
     "name": "stdout",
     "output_type": "stream",
     "text": [
      "hi Tony. You are 55 years old\n"
     ]
    }
   ],
   "source": [
    "#Formated Strings\n",
    "name = 'Tony'\n",
    "age = 55\n",
    "\n",
    "print(f'hi {name}. You are {age} years old') # this is a formated string, add f to start of string"
   ]
  },
  {
   "cell_type": "code",
   "execution_count": 24,
   "metadata": {},
   "outputs": [
    {
     "name": "stdout",
     "output_type": "stream",
     "text": [
      "hi Tony. You are 55 years old\n"
     ]
    }
   ],
   "source": [
    "name = 'Tony'\n",
    "age = 55\n",
    "\n",
    "print('hi {}. You are {} years old'.format(name, age)) #you can also use .format to format a string"
   ]
  },
  {
   "cell_type": "code",
   "execution_count": 25,
   "metadata": {},
   "outputs": [
    {
     "name": "stdout",
     "output_type": "stream",
     "text": [
      "hi 55. You are Tony years old\n"
     ]
    }
   ],
   "source": [
    "name = 'Tony'\n",
    "age = 55\n",
    "\n",
    "print('hi {1}. You are {0} years old'.format(name, age)) #you can change order of format using 1,0"
   ]
  },
  {
   "cell_type": "markdown",
   "metadata": {},
   "source": [
    "String Indexes"
   ]
  },
  {
   "cell_type": "code",
   "execution_count": 26,
   "metadata": {},
   "outputs": [
    {
     "name": "stdout",
     "output_type": "stream",
     "text": [
      "m\n",
      "e\n",
      " \n",
      "e\n"
     ]
    }
   ],
   "source": [
    "#String Indexes\n",
    "selfish = 'me me me'\n",
    "          #01234567\n",
    "\n",
    "print(selfish[0]) # the [0] prints the value of 0 characters in the string \"first slot in the string\"\n",
    "print(selfish[4]) # the [4] prints the value of 4th characters in the string\n",
    "print(selfish[2]) # the [2] prints the value of 2nd characters in the string\n",
    "print(selfish[7]) # the [0] prints the value of 7th characters in the string"
   ]
  },
  {
   "cell_type": "code",
   "execution_count": 31,
   "metadata": {},
   "outputs": [
    {
     "name": "stdout",
     "output_type": "stream",
     "text": [
      "01\n",
      "0123456\n"
     ]
    }
   ],
   "source": [
    "selfish = '01234567'\n",
    "          #01234567\n",
    "\n",
    "print(selfish[0:2]) # [start:stop], start at 0 but stop printing at 2\n",
    "print(selfish[0:7]) # [start:stop], start at 0 but stop printing at 7"
   ]
  },
  {
   "cell_type": "code",
   "execution_count": 32,
   "metadata": {},
   "outputs": [
    {
     "name": "stdout",
     "output_type": "stream",
     "text": [
      "0246\n"
     ]
    }
   ],
   "source": [
    "selfish = '01234567'\n",
    "          #01234567\n",
    "\n",
    "print(selfish[0:8:2]) # [start:stop:stepover], start at 0 but stop printing at 8, stepover by 2 (skip every second one)"
   ]
  },
  {
   "cell_type": "code",
   "execution_count": 33,
   "metadata": {},
   "outputs": [
    {
     "name": "stdout",
     "output_type": "stream",
     "text": [
      "1234567\n"
     ]
    }
   ],
   "source": [
    "selfish = '01234567'\n",
    "          #01234567\n",
    "\n",
    "print(selfish[1:]) # [start:], start at 1 but go to the end"
   ]
  },
  {
   "cell_type": "code",
   "execution_count": 34,
   "metadata": {},
   "outputs": [
    {
     "name": "stdout",
     "output_type": "stream",
     "text": [
      "01234\n"
     ]
    }
   ],
   "source": [
    "selfish = '01234567'\n",
    "          #01234567\n",
    "\n",
    "print(selfish[:5]) # [:stop], stop at 5 "
   ]
  },
  {
   "cell_type": "code",
   "execution_count": 35,
   "metadata": {},
   "outputs": [
    {
     "name": "stdout",
     "output_type": "stream",
     "text": [
      "0246\n"
     ]
    }
   ],
   "source": [
    "selfish = '01234567'\n",
    "          #01234567\n",
    "\n",
    "print(selfish[::2]) # [::stepover], skip every second one"
   ]
  },
  {
   "cell_type": "code",
   "execution_count": 37,
   "metadata": {},
   "outputs": [
    {
     "name": "stdout",
     "output_type": "stream",
     "text": [
      "7\n",
      "6\n",
      "5\n"
     ]
    }
   ],
   "source": [
    "selfish = '01234567'\n",
    "          #01234567\n",
    "\n",
    "print(selfish[-1]) # start at the end\n",
    "print(selfish[-2])\n",
    "print(selfish[-3])"
   ]
  },
  {
   "cell_type": "code",
   "execution_count": 39,
   "metadata": {},
   "outputs": [
    {
     "name": "stdout",
     "output_type": "stream",
     "text": [
      "76543210\n",
      "7531\n"
     ]
    }
   ],
   "source": [
    "selfish = '01234567'\n",
    "          #01234567\n",
    "\n",
    "print(selfish[::-1]) # [::stepover],print out string backwards\n",
    "print(selfish[::-2]) # [::stepover],print out string backwards skip every second one."
   ]
  },
  {
   "cell_type": "markdown",
   "metadata": {},
   "source": [
    "Immutability"
   ]
  },
  {
   "cell_type": "code",
   "execution_count": 43,
   "metadata": {},
   "outputs": [
    {
     "ename": "TypeError",
     "evalue": "'str' object does not support item assignment",
     "output_type": "error",
     "traceback": [
      "\u001b[1;31m---------------------------------------------------------------------------\u001b[0m",
      "\u001b[1;31mTypeError\u001b[0m                                 Traceback (most recent call last)",
      "\u001b[1;32m<ipython-input-43-8ad8e57b935e>\u001b[0m in \u001b[0;36m<module>\u001b[1;34m\u001b[0m\n\u001b[0;32m      3\u001b[0m           \u001b[1;31m#01234567\u001b[0m\u001b[1;33m\u001b[0m\u001b[1;33m\u001b[0m\u001b[1;33m\u001b[0m\u001b[0m\n\u001b[0;32m      4\u001b[0m \u001b[1;33m\u001b[0m\u001b[0m\n\u001b[1;32m----> 5\u001b[1;33m \u001b[0mselfish\u001b[0m\u001b[1;33m[\u001b[0m\u001b[1;36m0\u001b[0m\u001b[1;33m]\u001b[0m \u001b[1;33m=\u001b[0m \u001b[1;34m'8'\u001b[0m \u001b[1;31m#Error: because strings are immutable, cant be changed.\u001b[0m\u001b[1;33m\u001b[0m\u001b[1;33m\u001b[0m\u001b[0m\n\u001b[0m\u001b[0;32m      6\u001b[0m                  \u001b[1;31m#you cannot change the value of selfish once its been assigned\u001b[0m\u001b[1;33m\u001b[0m\u001b[1;33m\u001b[0m\u001b[1;33m\u001b[0m\u001b[0m\n\u001b[0;32m      7\u001b[0m \u001b[0mprint\u001b[0m\u001b[1;33m(\u001b[0m\u001b[0mselfish\u001b[0m\u001b[1;33m)\u001b[0m\u001b[1;33m\u001b[0m\u001b[1;33m\u001b[0m\u001b[0m\n",
      "\u001b[1;31mTypeError\u001b[0m: 'str' object does not support item assignment"
     ]
    }
   ],
   "source": [
    "#immutability\n",
    "selfish = '01234567'\n",
    "          #01234567\n",
    "\n",
    "selfish[0] = '8' #Error: because strings are immutable, cant be changed. \n",
    "                 #you cannot change the value of selfish once its been assigned\n",
    "print(selfish)"
   ]
  },
  {
   "cell_type": "markdown",
   "metadata": {},
   "source": [
    "Functions & Methods\n",
    "https://docs.python.org/3/library/functions.html\n",
    "https://www.w3schools.com/python/python_ref_string.asp"
   ]
  },
  {
   "cell_type": "code",
   "execution_count": 44,
   "metadata": {},
   "outputs": [
    {
     "name": "stdout",
     "output_type": "stream",
     "text": [
      "13\n"
     ]
    }
   ],
   "source": [
    "#Functions & Methods\n",
    "print(len('heloooooooooo')) # len(function) to give you the length of a string"
   ]
  },
  {
   "cell_type": "code",
   "execution_count": 45,
   "metadata": {},
   "outputs": [
    {
     "name": "stdout",
     "output_type": "stream",
     "text": [
      "TO BE OR NOT TO BE\n"
     ]
    }
   ],
   "source": [
    "#Functions & Methods\n",
    "quote = 'To Be or Not To Be'\n",
    "\n",
    "print(quote.upper()) #.upper method converts string to all Capitals\n",
    "\n",
    "#string methods are actions only strings can preform\n",
    "#start with ."
   ]
  },
  {
   "cell_type": "code",
   "execution_count": 46,
   "metadata": {},
   "outputs": [
    {
     "name": "stdout",
     "output_type": "stream",
     "text": [
      "To be or not to be\n"
     ]
    }
   ],
   "source": [
    "quote = 'To Be or Not To Be'\n",
    "\n",
    "print(quote.capitalize()) #.capitalize method caps the first letter of string"
   ]
  },
  {
   "cell_type": "code",
   "execution_count": 48,
   "metadata": {},
   "outputs": [
    {
     "name": "stdout",
     "output_type": "stream",
     "text": [
      "3\n"
     ]
    }
   ],
   "source": [
    "#Functions & Methods\n",
    "quote = 'To be or Not To be'\n",
    "\n",
    "print(quote.find('be')) #.find askes does whatever is in '' exist in the string and where does it start in the string"
   ]
  },
  {
   "cell_type": "code",
   "execution_count": 49,
   "metadata": {},
   "outputs": [
    {
     "name": "stdout",
     "output_type": "stream",
     "text": [
      "To me or Not To me\n"
     ]
    }
   ],
   "source": [
    "#Functions & Methods\n",
    "quote = 'To be or Not To be'\n",
    "\n",
    "print(quote.replace('be', 'me')) #.replace finds 'be' and replaces it with 'me'"
   ]
  },
  {
   "cell_type": "code",
   "execution_count": 50,
   "metadata": {},
   "outputs": [
    {
     "name": "stdout",
     "output_type": "stream",
     "text": [
      "To me or Not To me\n",
      "To be or Not To be\n"
     ]
    }
   ],
   "source": [
    "#Functions & Methods\n",
    "quote = 'To be or Not To be'\n",
    "\n",
    "print(quote.replace('be', 'me')) #.replace finds 'be' and replaces it with 'me'\n",
    "\n",
    "print(quote) # prinst our quote as above because strings are immutable"
   ]
  },
  {
   "cell_type": "markdown",
   "metadata": {},
   "source": [
    "Excersise: type conversion"
   ]
  },
  {
   "cell_type": "code",
   "execution_count": 51,
   "metadata": {},
   "outputs": [
    {
     "name": "stdout",
     "output_type": "stream",
     "text": [
      "What year were you born? 1975\n",
      "you are: 46 \n"
     ]
    }
   ],
   "source": [
    "birth_year = input('What year were you born? ') #adds input (year) to birth_year as a string\n",
    "\n",
    "age = 2021 - int(birth_year) #int converts birth_year to an interger and does maths on it\n",
    "\n",
    "print(f'you are: {age} ')  #outputs age"
   ]
  },
  {
   "cell_type": "code",
   "execution_count": null,
   "metadata": {},
   "outputs": [],
   "source": []
  }
 ],
 "metadata": {
  "kernelspec": {
   "display_name": "Python 3",
   "language": "python",
   "name": "python3"
  },
  "language_info": {
   "codemirror_mode": {
    "name": "ipython",
    "version": 3
   },
   "file_extension": ".py",
   "mimetype": "text/x-python",
   "name": "python",
   "nbconvert_exporter": "python",
   "pygments_lexer": "ipython3",
   "version": "3.8.5"
  }
 },
 "nbformat": 4,
 "nbformat_minor": 4
}
