{
 "cells": [
  {
   "cell_type": "markdown",
   "metadata": {},
   "source": [
    "Fundemental data types\n",
    "-----------------------------------\n",
    "int   = integer\n",
    "float = floating point number(contain decimal points)\n",
    "bool  = boolean value, True or false\n",
    "str   = string, A string is a sequence of characters\n",
    "list  = Lists are used to store multiple items in a single variable\n",
    "tuple = Tuples are used to store multiple items in a single variable, ordered and unchangeable.\n",
    "set   = Sets are used to store multiple items in a single variable, unordered and unindexed.\n",
    "dict  = Dictionaries are used to store data values in key:value pairs, unordered, changeable and does not allow duplicates"
   ]
  },
  {
   "cell_type": "code",
   "execution_count": 4,
   "metadata": {},
   "outputs": [
    {
     "name": "stdout",
     "output_type": "stream",
     "text": [
      "<class 'int'>\n",
      "<class 'int'>\n",
      "<class 'int'>\n",
      "<class 'float'>\n",
      "<class 'float'>\n",
      "8\n",
      "0\n",
      "1\n"
     ]
    }
   ],
   "source": [
    "#Fundemental Data Types\n",
    "#int and float\n",
    "print(type(2 + 4))\n",
    "print(type(2 - 4))\n",
    "print(type(2 * 4))\n",
    "print(type(2 / 4)) #0.5\n",
    "\n",
    "print(type(4.666))\n",
    "print(2 ** 3)  #to the power of\n",
    "print(2 // 4)  #rounded down to int\n",
    "print(5 % 4)   #modulo: remainder of dividing two numbers"
   ]
  },
  {
   "cell_type": "markdown",
   "metadata": {},
   "source": [
    "Math Functions"
   ]
  },
  {
   "cell_type": "code",
   "execution_count": 5,
   "metadata": {},
   "outputs": [
    {
     "name": "stdout",
     "output_type": "stream",
     "text": [
      "4\n",
      "20\n"
     ]
    }
   ],
   "source": [
    "#Math Functions\n",
    "print(round(4.1)) #rounds up/down number \n",
    "print(abs(-20))   #gets absoulte number"
   ]
  },
  {
   "cell_type": "markdown",
   "metadata": {},
   "source": [
    "Operator Precedence\n"
   ]
  },
  {
   "cell_type": "code",
   "execution_count": 6,
   "metadata": {},
   "outputs": [
    {
     "name": "stdout",
     "output_type": "stream",
     "text": [
      "8\n",
      "21\n"
     ]
    }
   ],
   "source": [
    "#operator precedence\n",
    "# ()\n",
    "# **\n",
    "# *, /\n",
    "# -, +\n",
    "\n",
    "print(20 - 3 * 4) #* goes first then -\n",
    "print((20 - 3) + 2 ** 2) # () is done first, then **"
   ]
  },
  {
   "cell_type": "markdown",
   "metadata": {},
   "source": [
    "Expressions and Statments"
   ]
  },
  {
   "cell_type": "code",
   "execution_count": 7,
   "metadata": {},
   "outputs": [
    {
     "name": "stdout",
     "output_type": "stream",
     "text": [
      "20.0\n"
     ]
    }
   ],
   "source": [
    "iq = 100          # this is a statment\n",
    "user_age = iq / 5 #this is an expression, a piece of code that produces a value\n",
    "print(user_age)"
   ]
  },
  {
   "cell_type": "markdown",
   "metadata": {},
   "source": [
    "Augmented Assignment Operator"
   ]
  },
  {
   "cell_type": "code",
   "execution_count": 9,
   "metadata": {},
   "outputs": [
    {
     "name": "stdout",
     "output_type": "stream",
     "text": [
      "7\n"
     ]
    }
   ],
   "source": [
    "some_value = 5\n",
    "some_value = some_value + 2\n",
    "print(some_value)"
   ]
  },
  {
   "cell_type": "code",
   "execution_count": 10,
   "metadata": {},
   "outputs": [
    {
     "name": "stdout",
     "output_type": "stream",
     "text": [
      "7\n"
     ]
    }
   ],
   "source": [
    "some_value = 5\n",
    "some_value +=  2  #removeing some_value and add +before + is a Augmented Assignment Operator\n",
    "print(some_value)"
   ]
  },
  {
   "cell_type": "markdown",
   "metadata": {},
   "source": [
    "String"
   ]
  },
  {
   "cell_type": "code",
   "execution_count": 11,
   "metadata": {},
   "outputs": [
    {
     "name": "stdout",
     "output_type": "stream",
     "text": [
      "<class 'str'>\n"
     ]
    }
   ],
   "source": [
    "print(type(\"hi, Hello there\"))"
   ]
  },
  {
   "cell_type": "code",
   "execution_count": 12,
   "metadata": {},
   "outputs": [
    {
     "name": "stdout",
     "output_type": "stream",
     "text": [
      "<class 'str'>\n",
      "  \n",
      "WOW\n",
      "O O\n",
      "---\n",
      "\n"
     ]
    }
   ],
   "source": [
    "print(type(\"Hi, Hello There\"))\n",
    "username = \"supercoder\"\n",
    "password = \"supersecret\"\n",
    "long_string = '''  \n",
    "WOW\n",
    "O O\n",
    "---\n",
    "'''      #long strings on multible lines use '''\n",
    "\n",
    "print(long_string)"
   ]
  },
  {
   "cell_type": "code",
   "execution_count": 14,
   "metadata": {},
   "outputs": [
    {
     "name": "stdout",
     "output_type": "stream",
     "text": [
      "Tony O'Connor\n"
     ]
    }
   ],
   "source": [
    "first_name = \"Tony\"\n",
    "last_name = \"O'Connor\"\n",
    "full_name = first_name + ' ' + last_name #you can add string together, and add space using ''\n",
    "print(full_name)"
   ]
  },
  {
   "cell_type": "markdown",
   "metadata": {},
   "source": [
    "String Concatention \"adding strings together\""
   ]
  },
  {
   "cell_type": "code",
   "execution_count": 15,
   "metadata": {},
   "outputs": [
    {
     "name": "stdout",
     "output_type": "stream",
     "text": [
      "hi There,Tony O Connor\n"
     ]
    }
   ],
   "source": [
    "print('hi There,' + 'Tony O Connor')"
   ]
  },
  {
   "cell_type": "markdown",
   "metadata": {},
   "source": [
    "Type Conversion\n"
   ]
  },
  {
   "cell_type": "code",
   "execution_count": 16,
   "metadata": {},
   "outputs": [
    {
     "name": "stdout",
     "output_type": "stream",
     "text": [
      "<class 'str'>\n"
     ]
    }
   ],
   "source": [
    "#type conversion\n",
    "print(type(str(100))) #we have converted 100 into a string using str"
   ]
  },
  {
   "cell_type": "code",
   "execution_count": 17,
   "metadata": {},
   "outputs": [
    {
     "name": "stdout",
     "output_type": "stream",
     "text": [
      "<class 'int'>\n"
     ]
    }
   ],
   "source": [
    "print(type(int(str(100)))) #we have converted 100 into a string using str then backu to int"
   ]
  },
  {
   "cell_type": "markdown",
   "metadata": {},
   "source": [
    "Escape Sequence"
   ]
  },
  {
   "cell_type": "code",
   "execution_count": 18,
   "metadata": {},
   "outputs": [
    {
     "name": "stdout",
     "output_type": "stream",
     "text": [
      "it's \"kind of\" sunny\n"
     ]
    }
   ],
   "source": [
    "#Escape Sequence\n",
    "weather = \"it\\'s \\\"kind of\\\" sunny\" # you need to add \\ if you want to put ' or\" in a string. so is says \\ \"whatever comes after this is a string\"\n",
    "\n",
    "print(weather)\n"
   ]
  },
  {
   "cell_type": "code",
   "execution_count": 19,
   "metadata": {},
   "outputs": [
    {
     "name": "stdout",
     "output_type": "stream",
     "text": [
      "\tit's \"kind of\" sunny\n"
     ]
    }
   ],
   "source": [
    "#Escape Sequence\n",
    "weather = \"\\tit\\'s \\\"kind of\\\" sunny\" # \\t says \"whatever comes after this is a tab\"\n",
    "\n",
    "print(weather)\n"
   ]
  },
  {
   "cell_type": "code",
   "execution_count": 21,
   "metadata": {},
   "outputs": [
    {
     "name": "stdout",
     "output_type": "stream",
     "text": [
      "\tit's \"kind of\" sunny\n",
      " Hoep you have a good day.\n"
     ]
    }
   ],
   "source": [
    "#Escape Sequence\n",
    "weather = \"\\tit\\'s \\\"kind of\\\" sunny\\n Hoep you have a good day.\" # \\n says \"whatever comes after this is a new line\"\n",
    "\n",
    "print(weather)\n"
   ]
  },
  {
   "cell_type": "markdown",
   "metadata": {},
   "source": [
    "Formated Strings"
   ]
  },
  {
   "cell_type": "code",
   "execution_count": 22,
   "metadata": {},
   "outputs": [
    {
     "name": "stdout",
     "output_type": "stream",
     "text": [
      "hi Tony. You are 55 years old\n"
     ]
    }
   ],
   "source": [
    "#Formated Strings\n",
    "name = 'Tony'\n",
    "age = 55\n",
    "\n",
    "print('hi ' + name + '. You are ' + str(age)  + ' years old') "
   ]
  },
  {
   "cell_type": "code",
   "execution_count": 23,
   "metadata": {},
   "outputs": [
    {
     "name": "stdout",
     "output_type": "stream",
     "text": [
      "hi Tony. You are 55 years old\n"
     ]
    }
   ],
   "source": [
    "#Formated Strings\n",
    "name = 'Tony'\n",
    "age = 55\n",
    "\n",
    "print(f'hi {name}. You are {age} years old') # this is a formated string, add f to start of string"
   ]
  },
  {
   "cell_type": "code",
   "execution_count": 24,
   "metadata": {},
   "outputs": [
    {
     "name": "stdout",
     "output_type": "stream",
     "text": [
      "hi Tony. You are 55 years old\n"
     ]
    }
   ],
   "source": [
    "name = 'Tony'\n",
    "age = 55\n",
    "\n",
    "print('hi {}. You are {} years old'.format(name, age)) #you can also use .format to format a string"
   ]
  },
  {
   "cell_type": "code",
   "execution_count": 25,
   "metadata": {},
   "outputs": [
    {
     "name": "stdout",
     "output_type": "stream",
     "text": [
      "hi 55. You are Tony years old\n"
     ]
    }
   ],
   "source": [
    "name = 'Tony'\n",
    "age = 55\n",
    "\n",
    "print('hi {1}. You are {0} years old'.format(name, age)) #you can change order of format using 1,0"
   ]
  },
  {
   "cell_type": "markdown",
   "metadata": {},
   "source": [
    "String Indexes"
   ]
  },
  {
   "cell_type": "code",
   "execution_count": 26,
   "metadata": {},
   "outputs": [
    {
     "name": "stdout",
     "output_type": "stream",
     "text": [
      "m\n",
      "e\n",
      " \n",
      "e\n"
     ]
    }
   ],
   "source": [
    "#String Indexes\n",
    "selfish = 'me me me'\n",
    "          #01234567\n",
    "\n",
    "print(selfish[0]) # the [0] prints the value of 0 characters in the string \"first slot in the string\"\n",
    "print(selfish[4]) # the [4] prints the value of 4th characters in the string\n",
    "print(selfish[2]) # the [2] prints the value of 2nd characters in the string\n",
    "print(selfish[7]) # the [0] prints the value of 7th characters in the string"
   ]
  },
  {
   "cell_type": "code",
   "execution_count": 31,
   "metadata": {},
   "outputs": [
    {
     "name": "stdout",
     "output_type": "stream",
     "text": [
      "01\n",
      "0123456\n"
     ]
    }
   ],
   "source": [
    "selfish = '01234567'\n",
    "          #01234567\n",
    "\n",
    "print(selfish[0:2]) # [start:stop], start at 0 but stop printing at 2\n",
    "print(selfish[0:7]) # [start:stop], start at 0 but stop printing at 7"
   ]
  },
  {
   "cell_type": "code",
   "execution_count": 32,
   "metadata": {},
   "outputs": [
    {
     "name": "stdout",
     "output_type": "stream",
     "text": [
      "0246\n"
     ]
    }
   ],
   "source": [
    "selfish = '01234567'\n",
    "          #01234567\n",
    "\n",
    "print(selfish[0:8:2]) # [start:stop:stepover], start at 0 but stop printing at 8, stepover by 2 (skip every second one)"
   ]
  },
  {
   "cell_type": "code",
   "execution_count": 33,
   "metadata": {},
   "outputs": [
    {
     "name": "stdout",
     "output_type": "stream",
     "text": [
      "1234567\n"
     ]
    }
   ],
   "source": [
    "selfish = '01234567'\n",
    "          #01234567\n",
    "\n",
    "print(selfish[1:]) # [start:], start at 1 but go to the end"
   ]
  },
  {
   "cell_type": "code",
   "execution_count": 34,
   "metadata": {},
   "outputs": [
    {
     "name": "stdout",
     "output_type": "stream",
     "text": [
      "01234\n"
     ]
    }
   ],
   "source": [
    "selfish = '01234567'\n",
    "          #01234567\n",
    "\n",
    "print(selfish[:5]) # [:stop], stop at 5 "
   ]
  },
  {
   "cell_type": "code",
   "execution_count": 35,
   "metadata": {},
   "outputs": [
    {
     "name": "stdout",
     "output_type": "stream",
     "text": [
      "0246\n"
     ]
    }
   ],
   "source": [
    "selfish = '01234567'\n",
    "          #01234567\n",
    "\n",
    "print(selfish[::2]) # [::stepover], skip every second one"
   ]
  },
  {
   "cell_type": "code",
   "execution_count": 37,
   "metadata": {},
   "outputs": [
    {
     "name": "stdout",
     "output_type": "stream",
     "text": [
      "7\n",
      "6\n",
      "5\n"
     ]
    }
   ],
   "source": [
    "selfish = '01234567'\n",
    "          #01234567\n",
    "\n",
    "print(selfish[-1]) # start at the end\n",
    "print(selfish[-2])\n",
    "print(selfish[-3])"
   ]
  },
  {
   "cell_type": "code",
   "execution_count": 39,
   "metadata": {},
   "outputs": [
    {
     "name": "stdout",
     "output_type": "stream",
     "text": [
      "76543210\n",
      "7531\n"
     ]
    }
   ],
   "source": [
    "selfish = '01234567'\n",
    "          #01234567\n",
    "\n",
    "print(selfish[::-1]) # [::stepover],print out string backwards\n",
    "print(selfish[::-2]) # [::stepover],print out string backwards skip every second one."
   ]
  },
  {
   "cell_type": "markdown",
   "metadata": {},
   "source": [
    "Immutability"
   ]
  },
  {
   "cell_type": "code",
   "execution_count": 43,
   "metadata": {},
   "outputs": [
    {
     "ename": "TypeError",
     "evalue": "'str' object does not support item assignment",
     "output_type": "error",
     "traceback": [
      "\u001b[1;31m---------------------------------------------------------------------------\u001b[0m",
      "\u001b[1;31mTypeError\u001b[0m                                 Traceback (most recent call last)",
      "\u001b[1;32m<ipython-input-43-8ad8e57b935e>\u001b[0m in \u001b[0;36m<module>\u001b[1;34m\u001b[0m\n\u001b[0;32m      3\u001b[0m           \u001b[1;31m#01234567\u001b[0m\u001b[1;33m\u001b[0m\u001b[1;33m\u001b[0m\u001b[1;33m\u001b[0m\u001b[0m\n\u001b[0;32m      4\u001b[0m \u001b[1;33m\u001b[0m\u001b[0m\n\u001b[1;32m----> 5\u001b[1;33m \u001b[0mselfish\u001b[0m\u001b[1;33m[\u001b[0m\u001b[1;36m0\u001b[0m\u001b[1;33m]\u001b[0m \u001b[1;33m=\u001b[0m \u001b[1;34m'8'\u001b[0m \u001b[1;31m#Error: because strings are immutable, cant be changed.\u001b[0m\u001b[1;33m\u001b[0m\u001b[1;33m\u001b[0m\u001b[0m\n\u001b[0m\u001b[0;32m      6\u001b[0m                  \u001b[1;31m#you cannot change the value of selfish once its been assigned\u001b[0m\u001b[1;33m\u001b[0m\u001b[1;33m\u001b[0m\u001b[1;33m\u001b[0m\u001b[0m\n\u001b[0;32m      7\u001b[0m \u001b[0mprint\u001b[0m\u001b[1;33m(\u001b[0m\u001b[0mselfish\u001b[0m\u001b[1;33m)\u001b[0m\u001b[1;33m\u001b[0m\u001b[1;33m\u001b[0m\u001b[0m\n",
      "\u001b[1;31mTypeError\u001b[0m: 'str' object does not support item assignment"
     ]
    }
   ],
   "source": [
    "#immutability\n",
    "selfish = '01234567'\n",
    "          #01234567\n",
    "\n",
    "selfish[0] = '8' #Error: because strings are immutable, cant be changed. \n",
    "                 #you cannot change the value of selfish once its been assigned\n",
    "print(selfish)"
   ]
  },
  {
   "cell_type": "markdown",
   "metadata": {},
   "source": [
    "Functions & Methods\n",
    "https://docs.python.org/3/library/functions.html\n",
    "https://www.w3schools.com/python/python_ref_string.asp"
   ]
  },
  {
   "cell_type": "code",
   "execution_count": 44,
   "metadata": {},
   "outputs": [
    {
     "name": "stdout",
     "output_type": "stream",
     "text": [
      "13\n"
     ]
    }
   ],
   "source": [
    "#Functions & Methods\n",
    "print(len('heloooooooooo')) # len(function) to give you the length of a string"
   ]
  },
  {
   "cell_type": "code",
   "execution_count": 45,
   "metadata": {},
   "outputs": [
    {
     "name": "stdout",
     "output_type": "stream",
     "text": [
      "TO BE OR NOT TO BE\n"
     ]
    }
   ],
   "source": [
    "#Functions & Methods\n",
    "quote = 'To Be or Not To Be'\n",
    "\n",
    "print(quote.upper()) #.upper method converts string to all Capitals\n",
    "\n",
    "#string methods are actions only strings can preform\n",
    "#start with ."
   ]
  },
  {
   "cell_type": "code",
   "execution_count": 46,
   "metadata": {},
   "outputs": [
    {
     "name": "stdout",
     "output_type": "stream",
     "text": [
      "To be or not to be\n"
     ]
    }
   ],
   "source": [
    "quote = 'To Be or Not To Be'\n",
    "\n",
    "print(quote.capitalize()) #.capitalize method caps the first letter of string"
   ]
  },
  {
   "cell_type": "code",
   "execution_count": 48,
   "metadata": {},
   "outputs": [
    {
     "name": "stdout",
     "output_type": "stream",
     "text": [
      "3\n"
     ]
    }
   ],
   "source": [
    "#Functions & Methods\n",
    "quote = 'To be or Not To be'\n",
    "\n",
    "print(quote.find('be')) #.find askes does whatever is in '' exist in the string and where does it start in the string"
   ]
  },
  {
   "cell_type": "code",
   "execution_count": 49,
   "metadata": {},
   "outputs": [
    {
     "name": "stdout",
     "output_type": "stream",
     "text": [
      "To me or Not To me\n"
     ]
    }
   ],
   "source": [
    "#Functions & Methods\n",
    "quote = 'To be or Not To be'\n",
    "\n",
    "print(quote.replace('be', 'me')) #.replace finds 'be' and replaces it with 'me'"
   ]
  },
  {
   "cell_type": "code",
   "execution_count": 50,
   "metadata": {},
   "outputs": [
    {
     "name": "stdout",
     "output_type": "stream",
     "text": [
      "To me or Not To me\n",
      "To be or Not To be\n"
     ]
    }
   ],
   "source": [
    "#Functions & Methods\n",
    "quote = 'To be or Not To be'\n",
    "\n",
    "print(quote.replace('be', 'me')) #.replace finds 'be' and replaces it with 'me'\n",
    "\n",
    "print(quote) # prinst our quote as above because strings are immutable"
   ]
  },
  {
   "cell_type": "markdown",
   "metadata": {},
   "source": [
    "Excersise: type conversion"
   ]
  },
  {
   "cell_type": "code",
   "execution_count": 51,
   "metadata": {},
   "outputs": [
    {
     "name": "stdout",
     "output_type": "stream",
     "text": [
      "What year were you born? 1975\n",
      "you are: 46 \n"
     ]
    }
   ],
   "source": [
    "birth_year = input('What year were you born? ') #adds input (year) to birth_year as a string\n",
    "\n",
    "age = 2021 - int(birth_year) #int converts birth_year to an interger and does maths on it\n",
    "\n",
    "print(f'you are: {age} ')  #outputs age"
   ]
  },
  {
   "cell_type": "markdown",
   "metadata": {},
   "source": [
    "https://realpython.com/python-comments-guide/\n"
   ]
  },
  {
   "cell_type": "code",
   "execution_count": 1,
   "metadata": {},
   "outputs": [
    {
     "name": "stdout",
     "output_type": "stream",
     "text": [
      "what is your username? tony\n",
      "what is your password? thisismypassword\n",
      "tony, your password is **************** and is 16 letters long. The first letter of your password is t and your password backwards is drowssapymsisiht\n"
     ]
    }
   ],
   "source": [
    "#Exercise: password checker\n",
    "username = input('what is your username? ')\n",
    "password = input('what is your password? ')\n",
    "\n",
    "\n",
    "password_length = len(password) #find length of 'password'\n",
    "hidden_password = '*' * password_length #hide 'password' by multiplying it length by *\n",
    "password_piece = password[0]\n",
    "password_backwards = password[::-1]\n",
    "\n",
    "print(f'{username}, your password is {hidden_password } and is {password_length} letters long. The first letter of your password is {password_piece} and your password backwards is {password_backwards}')\n"
   ]
  },
  {
   "cell_type": "markdown",
   "metadata": {},
   "source": [
    "Lists"
   ]
  },
  {
   "cell_type": "code",
   "execution_count": 4,
   "metadata": {},
   "outputs": [
    {
     "name": "stdout",
     "output_type": "stream",
     "text": [
      "[1, 2.5, 'hello', True]\n",
      "notebook\n"
     ]
    }
   ],
   "source": [
    "#lists, Lists are used to store multiple items in a single variable\n",
    "\n",
    "li = [1, 2.5, \"hello\", True]\n",
    "print(li)\n",
    "\n",
    "#lists work like a cart in amazon\n",
    "amazon_cart=['notebook', 'sunglases']\n",
    "\n",
    "print(amazon_cart[0]) # print first item in amazon_cart\n"
   ]
  },
  {
   "cell_type": "markdown",
   "metadata": {},
   "source": [
    "list slicing"
   ]
  },
  {
   "cell_type": "code",
   "execution_count": 8,
   "metadata": {},
   "outputs": [
    {
     "name": "stdout",
     "output_type": "stream",
     "text": [
      "['gum', 'sunglases', 'toys']\n",
      "['laptop', 'sunglases', 'toys', 'grapes']\n"
     ]
    }
   ],
   "source": [
    "#lists are immutable (they can be changed)\n",
    "amazon_cart=[\n",
    "    'notebook', \n",
    "    'sunglases',\n",
    "    'toys',\n",
    "    'grapes']\n",
    "\n",
    "amazon_cart[0] = 'laptop'   #change first item in the cart\n",
    "new_cart = amazon_cart[0:3] #make new_cart using only first 3 items of amazon-cart\n",
    "new_cart[0] = 'gum'         # now change first item of new_cart to be 'gum'\n",
    "\n",
    "print(new_cart)             # new cart\n",
    "print(amazon_cart)          #laptop is now first item in the list"
   ]
  },
  {
   "cell_type": "markdown",
   "metadata": {},
   "source": [
    "list Methods\n",
    "https://www.w3schools.com/python/python_ref_list.asp"
   ]
  },
  {
   "cell_type": "code",
   "execution_count": 11,
   "metadata": {},
   "outputs": [
    {
     "name": "stdout",
     "output_type": "stream",
     "text": [
      "[1, 2, 3, 4, 5, 100]\n",
      "[1, 2, 3, 4, 100, 5, 100]\n",
      "[1, 2, 3, 4, 100, 5, 100, 200, 101]\n",
      "[1, 2, 3, 4, 100, 5, 100, 200]\n",
      "[2, 3, 4, 100, 5, 100, 200]\n",
      "[2, 3, 100, 5, 100, 200]\n",
      "[]\n"
     ]
    }
   ],
   "source": [
    "#list Methods \n",
    "#a method is a action that is owned by something and is specific to a data type\n",
    "\n",
    "basket = [1,2,3,4,5]\n",
    "\n",
    "#adding method\n",
    "basket.append(100) #append changes the list in place (add to the end of the list)\n",
    "print(basket)\n",
    "\n",
    "#insert method\n",
    "basket.insert(4,100) #insert value in a certin place (put 100 in the 4th place)\n",
    "print(basket)\n",
    "\n",
    "#extend method\n",
    "basket.extend([200,101]) #extend list and add values (add 200 & 100 to list)\n",
    "print(basket)\n",
    "\n",
    "#remove\n",
    "basket.pop() #pop removes the last indexed item in the list\n",
    "print(basket)\n",
    "\n",
    "basket.pop(0) #pop removes the first indexed item in the list\n",
    "print(basket)\n",
    "\n",
    "basket.remove(4) #remove, remove the value in () from the list\n",
    "print(basket)\n",
    "\n",
    "basket.clear() #clears out all contests of the list\n",
    "print(basket)\n"
   ]
  },
  {
   "cell_type": "code",
   "execution_count": 12,
   "metadata": {},
   "outputs": [
    {
     "name": "stdout",
     "output_type": "stream",
     "text": [
      "1\n"
     ]
    }
   ],
   "source": [
    "basket = ['a','b', 'c', 'e', 'f']\n",
    "\n",
    "#Index\n",
    "print(basket.index('b')) #index tells you where in the list 'value' is (where is b on the list?)"
   ]
  },
  {
   "cell_type": "code",
   "execution_count": 15,
   "metadata": {},
   "outputs": [
    {
     "name": "stdout",
     "output_type": "stream",
     "text": [
      "1\n"
     ]
    }
   ],
   "source": [
    "basket = ['a','b', 'c', 'e', 'f']\n",
    "\n",
    "#Index\n",
    "print(basket.index('b', 0, 4)) #index tells you where in the list 'value' is (where is b BUT start looking between 0 and 2? )"
   ]
  },
  {
   "cell_type": "code",
   "execution_count": 16,
   "metadata": {},
   "outputs": [
    {
     "name": "stdout",
     "output_type": "stream",
     "text": [
      "True\n"
     ]
    }
   ],
   "source": [
    "basket = ['a','b', 'c', 'e', 'f']\n",
    "\n",
    "#keywords\n",
    "print('b' in basket) #in, asks if a value is in the list, boolean answer = true or False"
   ]
  },
  {
   "cell_type": "code",
   "execution_count": 17,
   "metadata": {},
   "outputs": [
    {
     "name": "stdout",
     "output_type": "stream",
     "text": [
      "False\n"
     ]
    }
   ],
   "source": [
    "basket = ['a','b', 'c', 'e', 'f']\n",
    "\n",
    "#keywords\n",
    "print('x' in basket) #in, asks if a value is in the list, boolean answer = true or False"
   ]
  },
  {
   "cell_type": "code",
   "execution_count": 21,
   "metadata": {},
   "outputs": [
    {
     "name": "stdout",
     "output_type": "stream",
     "text": [
      "2\n"
     ]
    }
   ],
   "source": [
    "basket = ['a','b', 'c', 'e', 'f', 'b']\n",
    "\n",
    "#keywords\n",
    "print(basket.count('b')) #count, asks how many time the value is in the list"
   ]
  },
  {
   "cell_type": "code",
   "execution_count": 22,
   "metadata": {},
   "outputs": [
    {
     "name": "stdout",
     "output_type": "stream",
     "text": [
      "['a', 'b', 'c', 'e', 'f', 'x']\n"
     ]
    }
   ],
   "source": [
    "basket = ['a','b', 'x', 'c', 'e', 'f']\n",
    "\n",
    "#keywords\n",
    "basket.sort() #sorts the list in place\n",
    "print(basket)"
   ]
  },
  {
   "cell_type": "code",
   "execution_count": 23,
   "metadata": {},
   "outputs": [
    {
     "name": "stdout",
     "output_type": "stream",
     "text": [
      "['a', 'b', 'c', 'e', 'f', 'x']\n",
      "['a', 'b', 'x', 'c', 'e', 'f']\n"
     ]
    }
   ],
   "source": [
    "basket = ['a','b', 'x', 'c', 'e', 'f']\n",
    "\n",
    "#keywords\n",
    "print(sorted(basket)) #sorted, produces a new array copy of basket and sorts it\n",
    "print(basket)"
   ]
  },
  {
   "cell_type": "code",
   "execution_count": 24,
   "metadata": {},
   "outputs": [
    {
     "name": "stdout",
     "output_type": "stream",
     "text": [
      "['f', 'e', 'c', 'x', 'b', 'a']\n"
     ]
    }
   ],
   "source": [
    "basket = ['a','b', 'x', 'c', 'e', 'f']\n",
    "\n",
    "#keywords\n",
    "basket.reverse() #reverses the basket\n",
    "print(basket)"
   ]
  },
  {
   "cell_type": "code",
   "execution_count": 25,
   "metadata": {},
   "outputs": [
    {
     "name": "stdout",
     "output_type": "stream",
     "text": [
      "['x', 'f', 'e', 'c', 'b', 'a']\n"
     ]
    }
   ],
   "source": [
    "basket = ['a','b', 'x', 'c', 'e', 'f']\n",
    "\n",
    "#keywords\n",
    "basket.sort() #sorts basket\n",
    "basket.reverse() #reverses the basket\n",
    "print(basket) #print a sorted reversed basket"
   ]
  },
  {
   "cell_type": "code",
   "execution_count": 26,
   "metadata": {},
   "outputs": [
    {
     "name": "stdout",
     "output_type": "stream",
     "text": [
      "['a', 'b', 'c', 'e', 'f', 'x']\n",
      "['x', 'f', 'e', 'c', 'b', 'a']\n"
     ]
    }
   ],
   "source": [
    "basket = ['a','b', 'x', 'c', 'e', 'f']\n",
    "\n",
    "basket.sort() #sorts basket\n",
    "basket.reverse() #reverses basket\n",
    "print(basket[::-1]) #creates a new list and reverses the.reverse method\n",
    "print(basket) #basket still sorted and only reversed once"
   ]
  },
  {
   "cell_type": "code",
   "execution_count": 27,
   "metadata": {},
   "outputs": [
    {
     "name": "stdout",
     "output_type": "stream",
     "text": [
      "[1, 2, 3, 4, 5, 6, 7, 8, 9, 10, 11, 12, 13, 14, 15, 16, 17, 18, 19, 20, 21, 22, 23, 24, 25, 26, 27, 28, 29, 30, 31, 32, 33, 34, 35, 36, 37, 38, 39, 40, 41, 42, 43, 44, 45, 46, 47, 48, 49, 50, 51, 52, 53, 54, 55, 56, 57, 58, 59, 60, 61, 62, 63, 64, 65, 66, 67, 68, 69, 70, 71, 72, 73, 74, 75, 76, 77, 78, 79, 80, 81, 82, 83, 84, 85, 86, 87, 88, 89, 90, 91, 92, 93, 94, 95, 96, 97, 98, 99]\n"
     ]
    }
   ],
   "source": [
    "print(list(range(1,100))) #print a list of numbers from 1 to 99"
   ]
  },
  {
   "cell_type": "code",
   "execution_count": 28,
   "metadata": {},
   "outputs": [
    {
     "name": "stdout",
     "output_type": "stream",
     "text": [
      "[0, 1, 2, 3, 4, 5, 6, 7, 8, 9, 10, 11, 12, 13, 14, 15, 16, 17, 18, 19, 20, 21, 22, 23, 24, 25, 26, 27, 28, 29, 30, 31, 32, 33, 34, 35, 36, 37, 38, 39, 40, 41, 42, 43, 44, 45, 46, 47, 48, 49, 50, 51, 52, 53, 54, 55, 56, 57, 58, 59, 60, 61, 62, 63, 64, 65, 66, 67, 68, 69, 70, 71, 72, 73, 74, 75, 76, 77, 78, 79, 80, 81, 82, 83, 84, 85, 86, 87, 88, 89, 90, 91, 92, 93, 94, 95, 96, 97, 98, 99, 100]\n"
     ]
    }
   ],
   "source": [
    "print(list(range(101))) #print a list of numbers from 0 to 100"
   ]
  },
  {
   "cell_type": "code",
   "execution_count": 29,
   "metadata": {},
   "outputs": [
    {
     "name": "stdout",
     "output_type": "stream",
     "text": [
      "hi my name is JOJO\n"
     ]
    }
   ],
   "source": [
    "sentence = ' '\n",
    "new_sentence = sentence.join(['hi', 'my', 'name', 'is', 'JOJO']) #joins the list new_sentence to variable sentence\n",
    "\n",
    "print(new_sentence)"
   ]
  },
  {
   "cell_type": "code",
   "execution_count": 30,
   "metadata": {},
   "outputs": [
    {
     "name": "stdout",
     "output_type": "stream",
     "text": [
      "hi my name is JOJO\n"
     ]
    }
   ],
   "source": [
    "#shorthand version of above\n",
    "\n",
    "new_sentence = ' '.join(['hi', 'my', 'name', 'is', 'JOJO']) #add string ' ' before.join\n",
    "\n",
    "print(new_sentence)"
   ]
  },
  {
   "cell_type": "code",
   "execution_count": 34,
   "metadata": {},
   "outputs": [
    {
     "name": "stdout",
     "output_type": "stream",
     "text": [
      "1\n",
      "2\n",
      "3\n",
      "[4, 5, 6, 7, 8]\n",
      "9\n"
     ]
    }
   ],
   "source": [
    "#list unpacking\n",
    "a,b,c, *other, d = [1,2,3,4,5,6,7,8,9]\n",
    "\n",
    "print(a)  #print a which = first itel on list\n",
    "print(b)  #print b which = second item on list\n",
    "print(c)  #print c which = third item on the list\n",
    "print(other) #print next 5 item on the list \" 5 characters in other\"\n",
    "print(d) #print last item on the list"
   ]
  },
  {
   "cell_type": "markdown",
   "metadata": {},
   "source": [
    "Dictionaries"
   ]
  },
  {
   "cell_type": "code",
   "execution_count": 35,
   "metadata": {},
   "outputs": [
    {
     "name": "stdout",
     "output_type": "stream",
     "text": [
      "2\n"
     ]
    }
   ],
   "source": [
    "#Dictionaries are used to store data values in key:value pairs.\n",
    "#A dictionary is a collection which is unordered, changeable and does not allow duplicates.\n",
    "#Dictionaries are written with curly brackets, and have keys and values\n",
    "\n",
    "dictionary = {\n",
    "  'a' : 1,     #key = a, value = 1\n",
    "  'b' : 2      #key = b, value = 2\n",
    "}\n",
    "\n",
    "print(dictionary['b']) #print key 'b'"
   ]
  },
  {
   "cell_type": "code",
   "execution_count": 36,
   "metadata": {},
   "outputs": [
    {
     "name": "stdout",
     "output_type": "stream",
     "text": [
      "2\n"
     ]
    }
   ],
   "source": [
    "dictionary = {\n",
    "  'a' : [1,2,3], #key = a, value = list\n",
    "  'b' : 'hello', #key = b, value = string\n",
    "  'x' : True     #key = c, value = boolean\n",
    "}\n",
    "\n",
    "print(dictionary['a'][1]) #print from key = a, item 2 from the list "
   ]
  },
  {
   "cell_type": "code",
   "execution_count": 38,
   "metadata": {},
   "outputs": [
    {
     "name": "stdout",
     "output_type": "stream",
     "text": [
      "3\n",
      "2\n"
     ]
    }
   ],
   "source": [
    "#dictionaries\n",
    "dictionary = {\n",
    "  'a' : [1,2,3],\n",
    "  'b' : 'hello',\n",
    "  'x' : True\n",
    "}\n",
    "#my list is a list with 2 dictionaries in it\n",
    "my_list = [{\n",
    "  'a' : [1,2,3],\n",
    "  'b' : 'hello',\n",
    "  'x' : True\n",
    "},\n",
    "{\n",
    "  'a' : [4,5,6],\n",
    "  'b' : 'hello',\n",
    "  'x' : True\n",
    "}]\n",
    "\n",
    "print(my_list[0]['a'][2]) #print out, [0] first ithe in list, with key = a, and third item in that list\n",
    "print(dictionary['a'][1]) #print from key = a, item 2 from the list "
   ]
  },
  {
   "cell_type": "code",
   "execution_count": 39,
   "metadata": {},
   "outputs": [
    {
     "ename": "KeyError",
     "evalue": "'age'",
     "output_type": "error",
     "traceback": [
      "\u001b[1;31m---------------------------------------------------------------------------\u001b[0m",
      "\u001b[1;31mKeyError\u001b[0m                                  Traceback (most recent call last)",
      "\u001b[1;32m<ipython-input-39-fa400debbc1c>\u001b[0m in \u001b[0;36m<module>\u001b[1;34m\u001b[0m\n\u001b[0;32m      5\u001b[0m }\n\u001b[0;32m      6\u001b[0m \u001b[1;33m\u001b[0m\u001b[0m\n\u001b[1;32m----> 7\u001b[1;33m \u001b[0mprint\u001b[0m\u001b[1;33m(\u001b[0m\u001b[0muser\u001b[0m\u001b[1;33m[\u001b[0m\u001b[1;34m'age'\u001b[0m\u001b[1;33m]\u001b[0m\u001b[1;33m)\u001b[0m \u001b[1;31m#print 'age' key from user dictionary\u001b[0m\u001b[1;33m\u001b[0m\u001b[1;33m\u001b[0m\u001b[0m\n\u001b[0m",
      "\u001b[1;31mKeyError\u001b[0m: 'age'"
     ]
    }
   ],
   "source": [
    "#dictionaries\n",
    "user = {\n",
    "  'basket': [1,2,3],\n",
    "  'greet' : 'hello',\n",
    "}\n",
    "\n",
    "print(user['age']) #print 'age' key from user dictionary (IT WILL GIVE AN ERROR)"
   ]
  },
  {
   "cell_type": "code",
   "execution_count": 41,
   "metadata": {},
   "outputs": [
    {
     "name": "stdout",
     "output_type": "stream",
     "text": [
      "None\n"
     ]
    }
   ],
   "source": [
    "#dictionaries\n",
    "user = {\n",
    "  'basket': [1,2,3],\n",
    "  'greet' : 'hello',\n",
    "}\n",
    "\n",
    "print(user.get('age')) #use .get method insted to print 'age' key from user dictionary (it will return NONE insted of error)"
   ]
  },
  {
   "cell_type": "code",
   "execution_count": 42,
   "metadata": {},
   "outputs": [
    {
     "name": "stdout",
     "output_type": "stream",
     "text": [
      "55\n"
     ]
    }
   ],
   "source": [
    "#dictionaries\n",
    "user = {\n",
    "  'basket': [1,2,3],\n",
    "  'greet' : 'hello',\n",
    "}\n",
    "\n",
    "print(user.get('age', 55)) #use .get method to print 'age' and if its not there use 55 as default value"
   ]
  },
  {
   "cell_type": "code",
   "execution_count": 43,
   "metadata": {},
   "outputs": [
    {
     "name": "stdout",
     "output_type": "stream",
     "text": [
      "20\n"
     ]
    }
   ],
   "source": [
    "#dictionaries\n",
    "user = {\n",
    "  'basket': [1,2,3],\n",
    "  'greet' : 'hello',\n",
    "    'age' : 20\n",
    "}\n",
    "\n",
    "print(user.get('age', 55)) #use .get method to print 'age' and if its not there use 55 as default value (but it is)"
   ]
  },
  {
   "cell_type": "code",
   "execution_count": 46,
   "metadata": {},
   "outputs": [
    {
     "name": "stdout",
     "output_type": "stream",
     "text": [
      "None\n",
      "{'basket': [1, 2, 3], 'greet': 'hello', 'age': 20}\n"
     ]
    }
   ],
   "source": [
    "#dictionaries\n",
    "user = {\n",
    "  'basket': [1,2,3],\n",
    "  'greet' : 'hello',\n",
    "  'age' : 20\n",
    "}\n",
    "\n",
    "user2 = user.copy()  #copy dictionary user\n",
    "print(user.clear()) #clears user and returns a NONE value\n",
    "print(user2)"
   ]
  },
  {
   "cell_type": "code",
   "execution_count": 48,
   "metadata": {},
   "outputs": [
    {
     "name": "stdout",
     "output_type": "stream",
     "text": [
      "20\n",
      "{'basket': [1, 2, 3], 'greet': 'hello'}\n"
     ]
    }
   ],
   "source": [
    "#dictionaries\n",
    "user = {\n",
    "  'basket': [1,2,3],\n",
    "  'greet' : 'hello',\n",
    "  'age' : 20\n",
    "}\n",
    "\n",
    "print(user.pop('age')) #.pop removes the key 'age' but returns its value\n",
    "print(user)            #user is now missing 'age'"
   ]
  },
  {
   "cell_type": "code",
   "execution_count": 49,
   "metadata": {},
   "outputs": [
    {
     "name": "stdout",
     "output_type": "stream",
     "text": [
      "('age', 20)\n",
      "{'basket': [1, 2, 3], 'greet': 'hello'}\n"
     ]
    }
   ],
   "source": [
    "#dictionaries\n",
    "user = {\n",
    "  'basket': [1,2,3],\n",
    "  'greet' : 'hello',\n",
    "  'age' : 20\n",
    "}\n",
    "\n",
    "print(user.popitem()) #removes some pair on the dictionary and returns it value\n",
    "print(user)"
   ]
  },
  {
   "cell_type": "code",
   "execution_count": 50,
   "metadata": {},
   "outputs": [
    {
     "name": "stdout",
     "output_type": "stream",
     "text": [
      "None\n",
      "{'basket': [1, 2, 3], 'greet': 'hello', 'age': 55}\n"
     ]
    }
   ],
   "source": [
    "#dictionaries\n",
    "user = {\n",
    "  'basket': [1,2,3],\n",
    "  'greet' : 'hello',\n",
    "  'age' : 20\n",
    "}\n",
    "\n",
    "print(user.update({'age': 55})) #updates key = 'age' to = 55\n",
    "print(user)"
   ]
  },
  {
   "cell_type": "markdown",
   "metadata": {},
   "source": [
    "Tuples : Tuples are used to store multiple items in a single variable.\n",
    "A tuple is a collection which is ordered and unchangeable.\n",
    "Tuples are written with round brackets"
   ]
  },
  {
   "cell_type": "code",
   "execution_count": 51,
   "metadata": {},
   "outputs": [
    {
     "name": "stdout",
     "output_type": "stream",
     "text": [
      "True\n"
     ]
    }
   ],
   "source": [
    "#tuple\n",
    "my_tuple = (1,2,3,4,5)\n",
    "print(5 in my_tuple) #is 5 in my-tuple"
   ]
  },
  {
   "cell_type": "code",
   "execution_count": 52,
   "metadata": {},
   "outputs": [
    {
     "name": "stdout",
     "output_type": "stream",
     "text": [
      "(2,)\n"
     ]
    }
   ],
   "source": [
    "#tuple\n",
    "my_tuple = (1,2,3,4,5)\n",
    "new_tuple = my_tuple[1:2] #start at 1 and end at 2 in my_tuple\n",
    "print(new_tuple)"
   ]
  },
  {
   "cell_type": "code",
   "execution_count": 53,
   "metadata": {},
   "outputs": [
    {
     "name": "stdout",
     "output_type": "stream",
     "text": [
      "(2, 3, 4)\n"
     ]
    }
   ],
   "source": [
    "#tuple\n",
    "my_tuple = (1,2,3,4,5)\n",
    "new_tuple = my_tuple[1:4] #start at 1 and end at 4 in my_tuple\n",
    "print(new_tuple)"
   ]
  },
  {
   "cell_type": "code",
   "execution_count": 54,
   "metadata": {},
   "outputs": [
    {
     "name": "stdout",
     "output_type": "stream",
     "text": [
      "1\n"
     ]
    }
   ],
   "source": [
    "#tuple\n",
    "my_tuple = (1,2,3,4,5)\n",
    "\n",
    "print(my_tuple.count(5)) #.count Returns the number of times a specified value occurs in a tuple"
   ]
  },
  {
   "cell_type": "code",
   "execution_count": 55,
   "metadata": {},
   "outputs": [
    {
     "name": "stdout",
     "output_type": "stream",
     "text": [
      "4\n"
     ]
    }
   ],
   "source": [
    "#tuple\n",
    "my_tuple = (1,2,3,4,5)\n",
    "\n",
    "print(my_tuple.index(5)) #.index Searches the tuple for a specified value and returns the position of where it was found"
   ]
  },
  {
   "cell_type": "markdown",
   "metadata": {},
   "source": [
    "Sets : Sets are used to store multiple items in a single variable.\n",
    "A set is a collection which is both unordered and unindexed.\n",
    "Sets are written with curly brackets."
   ]
  },
  {
   "cell_type": "code",
   "execution_count": 56,
   "metadata": {},
   "outputs": [
    {
     "name": "stdout",
     "output_type": "stream",
     "text": [
      "{1, 2, 3, 4, 5}\n"
     ]
    }
   ],
   "source": [
    "#sets are unordered collections of unique objects\n",
    "\n",
    "my_set = {1,2,3,4,5,5,5,5,5,5}\n",
    "\n",
    "print(my_set) #it will only return unique objects once"
   ]
  },
  {
   "cell_type": "code",
   "execution_count": 57,
   "metadata": {},
   "outputs": [
    {
     "name": "stdout",
     "output_type": "stream",
     "text": [
      "{1, 2, 3, 4, 5, 100}\n"
     ]
    }
   ],
   "source": [
    "my_set = {1,2,3,4,5}\n",
    "my_set.add(100)\n",
    "my_set.add(2) #it wont add 2 to the set as its allreay there\n",
    "print(my_set)"
   ]
  },
  {
   "cell_type": "code",
   "execution_count": 58,
   "metadata": {},
   "outputs": [
    {
     "name": "stdout",
     "output_type": "stream",
     "text": [
      "{1, 2, 3, 4, 5, 6}\n"
     ]
    }
   ],
   "source": [
    "#print out only unique objects from a list\n",
    "\n",
    "my_list = [1,1,2,2,3,3,4,4,5,5,6]\n",
    "\n",
    "my_set = set(my_list) #convert the list to a set\n",
    "\n",
    "print(my_set)"
   ]
  },
  {
   "cell_type": "code",
   "execution_count": 59,
   "metadata": {},
   "outputs": [
    {
     "name": "stdout",
     "output_type": "stream",
     "text": [
      "True\n",
      "6\n"
     ]
    }
   ],
   "source": [
    "my_set = {1,1,2,2,3,3,4,4,5,5,6}\n",
    "\n",
    "print(1 in my_set) #is 1 in my set?\n",
    "print(len(my_set)) #how long are the unique objects in my_set"
   ]
  },
  {
   "cell_type": "code",
   "execution_count": 60,
   "metadata": {},
   "outputs": [
    {
     "name": "stdout",
     "output_type": "stream",
     "text": [
      "{1, 2, 3}\n"
     ]
    }
   ],
   "source": [
    "#set methods\n",
    "\n",
    "my_set = {1,2,3,4,5}\n",
    "your_set = {4,5,6,7,8,9,10}\n",
    "\n",
    "print(my_set.difference(your_set)) #Returns a set containing the difference between two or more sets"
   ]
  },
  {
   "cell_type": "code",
   "execution_count": 61,
   "metadata": {},
   "outputs": [
    {
     "name": "stdout",
     "output_type": "stream",
     "text": [
      "{1, 2, 3, 4}\n"
     ]
    }
   ],
   "source": [
    "#sets methods\n",
    "my_set = {1,2,3,4,5}\n",
    "your_set = {4,5,6,7,8,9,10}\n",
    "\n",
    "my_set.discard(5) #Remove 5 specified item from my_set\n",
    "print(my_set)"
   ]
  },
  {
   "cell_type": "code",
   "execution_count": 62,
   "metadata": {},
   "outputs": [
    {
     "name": "stdout",
     "output_type": "stream",
     "text": [
      "{1, 2, 3}\n"
     ]
    }
   ],
   "source": [
    "#sets methods\n",
    "my_set = {1,2,3,4,5}\n",
    "your_set = {4,5,6,7,8,9,10}\n",
    "\n",
    "my_set.difference_update(your_set) #Removes the items in this set that are also included in another, specified set\n",
    "print(my_set)"
   ]
  },
  {
   "cell_type": "code",
   "execution_count": 63,
   "metadata": {},
   "outputs": [
    {
     "name": "stdout",
     "output_type": "stream",
     "text": [
      "{4, 5}\n"
     ]
    }
   ],
   "source": [
    "#sets methods\n",
    "my_set = {1,2,3,4,5}\n",
    "your_set = {4,5,6,7,8,9,10}\n",
    "\n",
    "print(my_set.intersection(your_set)) #Returns a set, that is the intersection of two other sets"
   ]
  },
  {
   "cell_type": "code",
   "execution_count": null,
   "metadata": {},
   "outputs": [],
   "source": []
  }
 ],
 "metadata": {
  "kernelspec": {
   "display_name": "Python 3",
   "language": "python",
   "name": "python3"
  },
  "language_info": {
   "codemirror_mode": {
    "name": "ipython",
    "version": 3
   },
   "file_extension": ".py",
   "mimetype": "text/x-python",
   "name": "python",
   "nbconvert_exporter": "python",
   "pygments_lexer": "ipython3",
   "version": "3.8.5"
  }
 },
 "nbformat": 4,
 "nbformat_minor": 4
}
